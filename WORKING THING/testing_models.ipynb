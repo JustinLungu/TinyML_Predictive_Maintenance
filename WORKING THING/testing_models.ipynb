{
  "nbformat": 4,
  "nbformat_minor": 0,
  "metadata": {
    "colab": {
      "provenance": []
    },
    "kernelspec": {
      "name": "python3",
      "display_name": "Python 3"
    },
    "language_info": {
      "name": "python"
    }
  },
  "cells": [
    {
      "cell_type": "code",
      "source": [
        "import sys\n",
        "import pandas as pd\n",
        "import numpy as np\n",
        "import matplotlib.pyplot as plt\n",
        "\n",
        "from keras.models import Sequential\n",
        "from keras.layers import Dense, Conv2D, MaxPooling2D, Flatten, Dropout\n",
        "from keras import optimizers\n",
        "\n",
        "import random\n",
        "import tensorflow as tf"
      ],
      "metadata": {
        "id": "BzEGNfK5hUa4"
      },
      "execution_count": 1,
      "outputs": []
    },
    {
      "cell_type": "code",
      "source": [
        "data_60hz30vol_normalized = [0.5075, 0.4825, 0.675 , 0.475 , 0.51 , 0.8 , 0.5075, 0.4825, 0.6775, 0.475 , 0.51 , 0.8 , 0.5075, 0.4825, 0.6775, 0.4775, 0.51 , 0.8 , 0.5075, 0.4825, 0.68 , 0.4775, 0.51 , 0.7975, 0.505 , 0.4825, 0.6825, 0.4775, 0.51 , 0.7975, 0.505 , 0.4825, 0.6825, 0.4775, 0.51 , 0.7975, 0.505 , 0.4825, 0.685 , 0.4775, 0.51 , 0.7975, 0.505 , 0.4825, 0.685 , 0.48 , 0.51 , 0.7975, 0.505 , 0.4825, 0.6875, 0.48 , 0.5075, 0.795 , 0.505 , 0.4825, 0.6875, 0.48 , 0.5075, 0.795 , 0.505 , 0.4825, 0.69 , 0.48 , 0.5075, 0.795 , 0.505 , 0.485 , 0.6925, 0.48 , 0.5075, 0.795]\n",
        "input_data_test = np.array(data_60hz30vol_normalized)"
      ],
      "metadata": {
        "id": "P6W-47CChYql"
      },
      "execution_count": 28,
      "outputs": []
    },
    {
      "cell_type": "code",
      "execution_count": 29,
      "metadata": {
        "colab": {
          "base_uri": "https://localhost:8080/"
        },
        "id": "G-gJlZO2gyk7",
        "outputId": "a8a54f83-12b1-4c72-f5d2-98eb2d2cec44"
      },
      "outputs": [
        {
          "output_type": "stream",
          "name": "stdout",
          "text": [
            "[[0.507394   0.4821756  0.6754266  0.47332996 0.510994   0.80165386\n",
            "  0.5070101  0.4823756  0.6767633  0.47412047 0.5104451  0.80143964\n",
            "  0.5069448  0.48284516 0.6784404  0.47482422 0.5103686  0.8007518\n",
            "  0.5068065  0.48256242 0.68001163 0.47526804 0.509961   0.8003264\n",
            "  0.50620186 0.48284814 0.6814521  0.47610822 0.50903535 0.8000568\n",
            "  0.50595516 0.48319802 0.6832423  0.47636357 0.50943196 0.799415\n",
            "  0.50540143 0.48370582 0.6851366  0.47755203 0.50907934 0.79889596\n",
            "  0.5053313  0.48398283 0.6865102  0.47797826 0.508387   0.7984965\n",
            "  0.5052141  0.48390618 0.68816143 0.47887567 0.5082406  0.7980934\n",
            "  0.50480485 0.48470464 0.6899922  0.47953323 0.5075284  0.79711074\n",
            "  0.50449514 0.48445994 0.6916701  0.47986862 0.5075467  0.79663503\n",
            "  0.50409174 0.48471186 0.693559   0.48068416 0.50733435 0.7958504 ]]\n"
          ]
        }
      ],
      "source": [
        "# Load TFLite model and allocate tensors.\n",
        "interpreter = tf.lite.Interpreter(model_path=\"autoencoder_model.tflite\")\n",
        "interpreter.allocate_tensors()\n",
        "\n",
        "# Get input and output tensors.\n",
        "input_details = interpreter.get_input_details()\n",
        "output_details = interpreter.get_output_details()\n",
        "\n",
        "# Test model on random input data.\n",
        "input_shape = input_details[0]['shape']\n",
        "test_dataa = tf.expand_dims(tf.convert_to_tensor(input_data_test, dtype=tf.float32), 0)\n",
        "\n",
        "input_data = test_dataa\n",
        "\n",
        "interpreter.set_tensor(input_details[0]['index'], input_data)\n",
        "\n",
        "\n",
        "interpreter.invoke()\n",
        "\n",
        "# The function `get_tensor()` returns a copy of the tensor data.\n",
        "# Use `tensor()` in order to get a pointer to the tensor.\n",
        "output_data = interpreter.get_tensor(output_details[0]['index'])\n",
        "print(output_data)\n"
      ]
    },
    {
      "cell_type": "code",
      "source": [
        "mae = np.mean(np.abs(input_data_test- output_data))\n",
        "mae"
      ],
      "metadata": {
        "colab": {
          "base_uri": "https://localhost:8080/"
        },
        "id": "5sNVoOPxhHDi",
        "outputId": "fd2e3444-7b2a-4081-fab0-3df1a40b0a3f"
      },
      "execution_count": 30,
      "outputs": [
        {
          "output_type": "execute_result",
          "data": {
            "text/plain": [
              "0.0009864970048268562"
            ]
          },
          "metadata": {},
          "execution_count": 30
        }
      ]
    },
    {
      "cell_type": "code",
      "source": [
        "abs_diff_test = np.abs(input_data_test - output_data)\n",
        "abs_diff_test.shape"
      ],
      "metadata": {
        "colab": {
          "base_uri": "https://localhost:8080/"
        },
        "id": "2A1Fx2gUihMr",
        "outputId": "80d6c7a8-5231-4134-f08f-09fd137552fd"
      },
      "execution_count": 33,
      "outputs": [
        {
          "output_type": "execute_result",
          "data": {
            "text/plain": [
              "(1, 72)"
            ]
          },
          "metadata": {},
          "execution_count": 33
        }
      ]
    },
    {
      "cell_type": "code",
      "source": [
        "arduino_out = [\n",
        "    0.44, 0.48, 0.60, 0.46, 0.50, 0.71,\n",
        "    0.44, 0.48, 0.61, 0.46, 0.49, 0.71,\n",
        "    0.44, 0.48, 0.61, 0.46, 0.50, 0.71,\n",
        "    0.44, 0.48, 0.62, 0.46, 0.49, 0.71,\n",
        "    0.44, 0.48, 0.63, 0.46, 0.49, 0.71,\n",
        "    0.44, 0.48, 0.63, 0.47, 0.49, 0.70,\n",
        "    0.44, 0.49, 0.64, 0.47, 0.49, 0.70,\n",
        "    0.43, 0.49, 0.65, 0.47, 0.49, 0.70,\n",
        "    0.43, 0.48, 0.65, 0.47, 0.49, 0.70,\n",
        "    0.43, 0.49, 0.66, 0.48, 0.49, 0.70,\n",
        "    0.43, 0.49, 0.67, 0.48, 0.49, 0.69,\n",
        "    0.43, 0.49, 0.67, 0.48, 0.49, 0.69\n",
        "]\n"
      ],
      "metadata": {
        "id": "hJzudV0ri6GM"
      },
      "execution_count": 35,
      "outputs": []
    },
    {
      "cell_type": "code",
      "source": [
        "arduino_output = np.array(arduino_out)"
      ],
      "metadata": {
        "id": "7ZZ8iAJ7i6C0"
      },
      "execution_count": 37,
      "outputs": []
    },
    {
      "cell_type": "code",
      "source": [
        "mae_with_arduino_data = np.mean(np.abs(input_data_test- arduino_output))"
      ],
      "metadata": {
        "id": "EefyDnNHjSdL"
      },
      "execution_count": 38,
      "outputs": []
    },
    {
      "cell_type": "code",
      "source": [
        "mae_with_arduino_data"
      ],
      "metadata": {
        "colab": {
          "base_uri": "https://localhost:8080/"
        },
        "id": "6Jkmbkf-jV9I",
        "outputId": "73dbe8c9-96dd-4d54-82a6-63169146b903"
      },
      "execution_count": 40,
      "outputs": [
        {
          "output_type": "execute_result",
          "data": {
            "text/plain": [
              "0.04055555555555557"
            ]
          },
          "metadata": {},
          "execution_count": 40
        }
      ]
    },
    {
      "cell_type": "code",
      "source": [
        "abs_diff_test_arduino = np.abs(input_data_test- arduino_output)\n",
        "abs_diff_test_arduino"
      ],
      "metadata": {
        "colab": {
          "base_uri": "https://localhost:8080/"
        },
        "id": "38QEih5ljp2R",
        "outputId": "e24d6dbf-6ad8-4b36-9ece-46e30518d9af"
      },
      "execution_count": 41,
      "outputs": [
        {
          "output_type": "execute_result",
          "data": {
            "text/plain": [
              "array([0.0675, 0.0025, 0.075 , 0.015 , 0.01  , 0.09  , 0.0675, 0.0025,\n",
              "       0.0675, 0.015 , 0.02  , 0.09  , 0.0675, 0.0025, 0.0675, 0.0175,\n",
              "       0.01  , 0.09  , 0.0675, 0.0025, 0.06  , 0.0175, 0.02  , 0.0875,\n",
              "       0.065 , 0.0025, 0.0525, 0.0175, 0.02  , 0.0875, 0.065 , 0.0025,\n",
              "       0.0525, 0.0075, 0.02  , 0.0975, 0.065 , 0.0075, 0.045 , 0.0075,\n",
              "       0.02  , 0.0975, 0.075 , 0.0075, 0.035 , 0.01  , 0.02  , 0.0975,\n",
              "       0.075 , 0.0025, 0.0375, 0.01  , 0.0175, 0.095 , 0.075 , 0.0075,\n",
              "       0.0275, 0.    , 0.0175, 0.095 , 0.075 , 0.0075, 0.02  , 0.    ,\n",
              "       0.0175, 0.105 , 0.075 , 0.005 , 0.0225, 0.    , 0.0175, 0.105 ])"
            ]
          },
          "metadata": {},
          "execution_count": 41
        }
      ]
    }
  ]
}